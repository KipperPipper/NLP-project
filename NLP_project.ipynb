{
  "nbformat": 4,
  "nbformat_minor": 0,
  "metadata": {
    "colab": {
      "name": "NLP project.ipynb",
      "provenance": []
    },
    "kernelspec": {
      "name": "python3",
      "display_name": "Python 3"
    },
    "accelerator": "GPU"
  },
  "cells": [
    {
      "cell_type": "markdown",
      "metadata": {
        "id": "U9_8sN19s4Uz",
        "colab_type": "text"
      },
      "source": [
        "Jigsaw Unintended Bias in Toxicity Classification"
      ]
    },
    {
      "cell_type": "code",
      "metadata": {
        "id": "vnKiDHMYgLlv",
        "colab_type": "code",
        "colab": {}
      },
      "source": [
        "SETUP = True"
      ],
      "execution_count": 0,
      "outputs": []
    },
    {
      "cell_type": "code",
      "metadata": {
        "id": "m5CW4drpgPgQ",
        "colab_type": "code",
        "colab": {}
      },
      "source": [
        "if SETUP:\n",
        "    !pip install -q -U toai\n",
        "    !pip install -q -U nb_black\n",
        "    !pip install -q -U tensorflow-datasets\n",
        "    !pip install -q -U --no-deps tensorflow-addons~=0.6\n",
        "    !pip install dovpanda\n",
        "    !pip install tensorflow==2.0.0-rc0 \n",
        "\n",
        "    !pip install -q kaggle\n",
        "\n",
        "    !mkdir -p ~/.kaggle\n",
        "    !cp kaggle.json ~/.kaggle/\n",
        "    !chmod 600 ~/.kaggle/kaggle.json\n",
        "    \n",
        "    print(__import__(\"toai\").__version__)\n",
        "    print(__import__(\"tensorflow\").__version__)"
      ],
      "execution_count": 0,
      "outputs": []
    },
    {
      "cell_type": "code",
      "metadata": {
        "id": "cmGdHUIJgRLU",
        "colab_type": "code",
        "outputId": "897c2da4-2486-41f5-f442-9d9954baaeac",
        "colab": {
          "base_uri": "https://localhost:8080/",
          "height": 73
        }
      },
      "source": [
        "from toai.imports import *\n",
        "from toai.data import DataBundle, DataParams, DataContainer\n",
        "from toai.metrics import sparse_top_2_categorical_accuracy\n",
        "import tensorflow as tf\n",
        "from tensorflow import keras\n",
        "#import tensorflow_addons as tfa\n",
        "import tensorflow_datasets as tfds\n",
        "import dovpanda \n",
        "from toai.utils import download_file, unzip, save_file, load_file\n"
      ],
      "execution_count": 2,
      "outputs": [
        {
          "output_type": "stream",
          "text": [
            "/usr/local/lib/python3.6/dist-packages/sklearn/externals/joblib/__init__.py:15: DeprecationWarning: sklearn.externals.joblib is deprecated in 0.21 and will be removed in 0.23. Please import this functionality directly from joblib, which can be installed with: pip install joblib. If this warning is raised when loading pickled models, you may need to re-serialize those models with scikit-learn 0.21+.\n",
            "  warnings.warn(msg, category=DeprecationWarning)\n"
          ],
          "name": "stderr"
        }
      ]
    },
    {
      "cell_type": "code",
      "metadata": {
        "id": "qMKEFtlYtasc",
        "colab_type": "code",
        "colab": {}
      },
      "source": [
        "import matplotlib.pyplot as plt"
      ],
      "execution_count": 0,
      "outputs": []
    },
    {
      "cell_type": "code",
      "metadata": {
        "id": "boW8p6rLJDUt",
        "colab_type": "code",
        "colab": {}
      },
      "source": [
        "BATCH_SIZE = 16"
      ],
      "execution_count": 0,
      "outputs": []
    },
    {
      "cell_type": "code",
      "metadata": {
        "id": "uAG13phJg-2h",
        "colab_type": "code",
        "colab": {}
      },
      "source": [
        "dovpanda.tip()"
      ],
      "execution_count": 0,
      "outputs": []
    },
    {
      "cell_type": "code",
      "metadata": {
        "id": "WAUWMY21hDOI",
        "colab_type": "code",
        "colab": {}
      },
      "source": [
        "DATA_DIR = Path(\"data/NLP-Jigsaw\")\n",
        "DATA_DIR.mkdir(parents=True, exist_ok=True)\n",
        "TEMP_DIR = Path(\"temp/NLP-Jigsaw\")\n",
        "TEMP_DIR.mkdir(parents=True, exist_ok=True)"
      ],
      "execution_count": 0,
      "outputs": []
    },
    {
      "cell_type": "code",
      "metadata": {
        "id": "YkVZVH_3u4tx",
        "colab_type": "code",
        "colab": {}
      },
      "source": [
        ""
      ],
      "execution_count": 0,
      "outputs": []
    },
    {
      "cell_type": "code",
      "metadata": {
        "id": "MAFwms58hZ3K",
        "colab_type": "code",
        "colab": {
          "base_uri": "https://localhost:8080/",
          "height": 72
        },
        "outputId": "aabde9e4-b4fe-40d0-aef8-260880d47e93"
      },
      "source": [
        " kaggle.api.competition_download_file(\n",
        "     competition=\"jigsaw-unintended-bias-in-toxicity-classification\",\n",
        "     file_name=\"train.csv\",\n",
        "     path=DATA_DIR,\n",
        " )"
      ],
      "execution_count": 7,
      "outputs": [
        {
          "output_type": "stream",
          "text": [
            "\r  0%|          | 0.00/273M [00:00<?, ?B/s]"
          ],
          "name": "stderr"
        },
        {
          "output_type": "stream",
          "text": [
            "Downloading train.csv.zip to data/NLP-Jigsaw\n"
          ],
          "name": "stdout"
        },
        {
          "output_type": "stream",
          "text": [
            "100%|██████████| 273M/273M [00:05<00:00, 40.5MB/s]"
          ],
          "name": "stderr"
        },
        {
          "output_type": "stream",
          "text": [
            "\n"
          ],
          "name": "stdout"
        },
        {
          "output_type": "stream",
          "text": [
            "\n"
          ],
          "name": "stderr"
        }
      ]
    },
    {
      "cell_type": "code",
      "metadata": {
        "id": "EOuJw--3uL4q",
        "colab_type": "code",
        "colab": {}
      },
      "source": [
        "unzip.all_files_in_dir(DATA_DIR, \".zip\")"
      ],
      "execution_count": 0,
      "outputs": []
    },
    {
      "cell_type": "code",
      "metadata": {
        "id": "h5cAmcRDuSAn",
        "colab_type": "code",
        "outputId": "99678c7a-ffba-4c24-bfa8-4f378c74ce37",
        "colab": {
          "base_uri": "https://localhost:8080/",
          "height": 172
        }
      },
      "source": [
        "train_df = pd.read_csv(DATA_DIR/'train.csv',)"
      ],
      "execution_count": 6,
      "outputs": [
        {
          "output_type": "display_data",
          "data": {
            "text/html": [
              "\n",
              "        <div class=\"alert alert-info\" role=\"alert\">\n",
              "          <img src=\"data:image/png;base64,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\" alt=\"logo\" style=\"float:left; margin-right:10px\">\n",
              "          File size is very large and may take time to load. If you would like to avoid format issues before the complete file loads, try:  <code>pd.read_csv(data/NLP-Jigsaw/train.csv, nrows=5)</code> to check schema is as expected.\n",
              "          <button type=\"button\" class=\"close\" data-dismiss=\"alert\" aria-label=\"Close\">\n",
              "            <span aria-hidden=\"true\">&times;</span>\n",
              "          </button>\n",
              "          <div style=\"font-size:0.7em;\">Line 1: <code>train_df = pd.read_csv(DATA_DIR/'train.csv',nrows=5)</code> </div>\n",
              "\n",
              "        </div>\n",
              "        "
            ],
            "text/plain": [
              "===== File size is very large and may take time to load. If you would like to avoid format issues before the complete file loads, try:  pd.read_csv(data/NLP-Jigsaw/train.csv, nrows=5) to check schema is as expected. ===== (Line 1)"
            ]
          },
          "metadata": {
            "tags": []
          }
        },
        {
          "output_type": "display_data",
          "data": {
            "text/html": [
              "\n",
              "        <div class=\"alert alert-info\" role=\"alert\">\n",
              "          <img src=\"data:image/png;base64,iVBORw0KGgoAAAANSUhEUgAAACMAAAAjCAYAAAAe2bNZAAAACXBIWXMAAAsTAAALEwEAmpwYAAAF9GlUWHRYTUw6Y29tLmFkb2JlLnhtcAAAAAAAPD94cGFja2V0IGJlZ2luPSLvu78iIGlkPSJXNU0wTXBDZWhpSHpyZVN6TlRjemtjOWQiPz4gPHg6eG1wbWV0YSB4bWxuczp4PSJhZG9iZTpuczptZXRhLyIgeDp4bXB0az0iQWRvYmUgWE1QIENvcmUgNS42LWMxNDUgNzkuMTYzNDk5LCAyMDE4LzA4LzEzLTE2OjQwOjIyICAgICAgICAiPiA8cmRmOlJERiB4bWxuczpyZGY9Imh0dHA6Ly93d3cudzMub3JnLzE5OTkvMDIvMjItcmRmLXN5bnRheC1ucyMiPiA8cmRmOkRlc2NyaXB0aW9uIHJkZjphYm91dD0iIiB4bWxuczp4bXA9Imh0dHA6Ly9ucy5hZG9iZS5jb20veGFwLzEuMC8iIHhtbG5zOmRjPSJodHRwOi8vcHVybC5vcmcvZGMvZWxlbWVudHMvMS4xLyIgeG1sbnM6cGhvdG9zaG9wPSJodHRwOi8vbnMuYWRvYmUuY29tL3Bob3Rvc2hvcC8xLjAvIiB4bWxuczp4bXBNTT0iaHR0cDovL25zLmFkb2JlLmNvbS94YXAvMS4wL21tLyIgeG1sbnM6c3RFdnQ9Imh0dHA6Ly9ucy5hZG9iZS5jb20veGFwLzEuMC9zVHlwZS9SZXNvdXJjZUV2ZW50IyIgeG1wOkNyZWF0b3JUb29sPSJBZG9iZSBQaG90b3Nob3AgQ0MgMjAxOSAoV2luZG93cykiIHhtcDpDcmVhdGVEYXRlPSIyMDE5LTEwLTI2VDExOjI2KzAzOjAwIiB4bXA6TW9kaWZ5RGF0ZT0iMjAxOS0xMS0wOVQxMjo0MDo1MCswMjowMCIgeG1wOk1ldGFkYXRhRGF0ZT0iMjAxOS0xMS0wOVQxMjo0MDo1MCswMjowMCIgZGM6Zm9ybWF0PSJpbWFnZS9wbmciIHBob3Rvc2hvcDpDb2xvck1vZGU9IjMiIHBob3Rvc2hvcDpJQ0NQcm9maWxlPSJzUkdCIElFQzYxOTY2LTIuMSIgeG1wTU06SW5zdGFuY2VJRD0ieG1wLmlpZDo0YjVlMWMxZC1iMGNmLTk0NDctOTRiMy1lZTU1YmI2NjJmYTciIHhtcE1NOkRvY3VtZW50SUQ9ImFkb2JlOmRvY2lkOnBob3Rvc2hvcDo3MTcyNGRkOC1kMzM3LTVhNDQtOWQ3OS1iMzNlZWY3OTkzNzciIHhtcE1NOk9yaWdpbmFsRG9jdW1lbnRJRD0ieG1wLmRpZDpmMjYyNGQ0My04YzlhLWNhNDAtYTM4NC00OTViOGY1NzUwMDAiPiA8eG1wTU06SGlzdG9yeT4gPHJkZjpTZXE+IDxyZGY6bGkgc3RFdnQ6YWN0aW9uPSJjcmVhdGVkIiBzdEV2dDppbnN0YW5jZUlEPSJ4bXAuaWlkOmYyNjI0ZDQzLThjOWEtY2E0MC1hMzg0LTQ5NWI4ZjU3NTAwMCIgc3RFdnQ6d2hlbj0iMjAxOS0xMC0yNlQxMToyNiswMzowMCIgc3RFdnQ6c29mdHdhcmVBZ2VudD0iQWRvYmUgUGhvdG9zaG9wIENDIDIwMTkgKFdpbmRvd3MpIi8+IDxyZGY6bGkgc3RFdnQ6YWN0aW9uPSJzYXZlZCIgc3RFdnQ6aW5zdGFuY2VJRD0ieG1wLmlpZDo0YjVlMWMxZC1iMGNmLTk0NDctOTRiMy1lZTU1YmI2NjJmYTciIHN0RXZ0OndoZW49IjIwMTktMTEtMDlUMTI6NDA6NTArMDI6MDAiIHN0RXZ0OnNvZnR3YXJlQWdlbnQ9IkFkb2JlIFBob3Rvc2hvcCBDQyAyMDE5IChXaW5kb3dzKSIgc3RFdnQ6Y2hhbmdlZD0iLyIvPiA8L3JkZjpTZXE+IDwveG1wTU06SGlzdG9yeT4gPC9yZGY6RGVzY3JpcHRpb24+IDwvcmRmOlJERj4gPC94OnhtcG1ldGE+IDw/eHBhY2tldCBlbmQ9InIiPz42QQkHAAAIgElEQVRYhb2XbVBTVxrH/7mB3BAhVcyG8CaEWkhRfEMh1FJIKSjbwhrWKupg3fVlZFCrZb8g9f0LC9opCw4r+8EWK11nRdZaxZAZcBHCCgpRQQsaTNDRQEhCkCghyT37YQ2jJqjtqP+Z++Wc//Oc33Puc8+9l7Vt2zZQFIVLly7h8aNHaSMPH+b19fUlAmCJw8NbORzv0nXr/qSYOXMmKioq0NHRgdmzZyM8XIzm5mYkJyfBx8cHVqsVLS0tkCZIodPp0HW9C/Pnz0dubi5u376No0ePLrE7HF9qtdoEAHg3IqLJz8+v3MeHp5RKpWAYBl6EEHC5XLAp9jb11auleEp3tNp0AOlt7e35A4OD3wwODoJhGAwNDWHaNH/YbLYghmF4ABwMw3jZbLZHFovl/tDQEABgYHAQLSoVdDpd/q3btw8+nVvT15cJIPPDxYu/5HK5f7NaH8GLzWbDaDR9dO36tWdAnlZ9ff2hyMjI5l96eq4GCIW/j5kzJ3PxB4vjNmzc8DuJROI93d+fMZpM1OcrVtj7+voMPj68Nuuo9XRPT08dh6bn3urtPThZ7mvXr5dGR89ST5nCa8Kuwq8xJybmOADyoouiqI78/PzWCxcukFdRY2Mjyc/Pb6UoquNluWNiZh//unAnkJyczBYIBJ0vMqenp5O2trZXgnhebW1tJD09/YUwAoFAnZz0kRfk8ixKJBJdnsy4e/fu3wTxvPbs2TMpjEgkupwll7NRcvAgPkpM/NaTqays7LWAuFReXu4RJjEx8dvi4mKwoyUSBIpEd+5otX+2Wq3ersY6fPgw8vLyJuu736S4uDgIhUKcO3duYkwoFD5KTU3dODIyYmTHLVoEmss1gpDmu/39MoZh3vlLfj6rsLDwtYK4tGjRIlitVqhUKuLl5aWLj49fHhwc3GG32wGVSoWWlhZoNBqsX78+LTg4eJwwzGu9PZ4UFBQ0vmHDhlSNRoOWlhaoVCpQGo0G9+7eQ3d3N9Rq9eqysjJvsFhvZFeeVllZmXdnZ+ea7q5u3Ou/B81tDVhbt2zFlClTUFtbm/le5Hunz5w588ZBXMrIyEBvT+8f5HL5T6Ojo6CEAUJwaA4sluGCffv2vjUQANi7dy8sI5YCDs1BgCgAlDg8HG2XLqUtiI2VLlgQ+1ZhYmNjEbswVtrW1pYWIRaDMpnN6Ontzc7KynqrIC5lybPQ29ubbTabgKVLlvgFB4f0GwyGN/4EeZLBYCChISH9aSmf+HqNjIwsjI5+P1QgEExKr1arYTQaIRKJMGvWrFeuuru7G3q9HtOnT8e8efM8egQCASTR0aEmo/FDTJs6dXdBQYFHarPZTLKzs585ujdv3vxKFW/evPmZuFWrVhGz2ezRW1hYSHx9fYsA4Gh1dbVHU0ZGxgSAsr6e1NTUkLj4eLJp48YXgmzatInEx8eTUzU1RFlfT3KfgGVmZnr0nzhxggA4BgCnFQqFm6GhoYEAIDRNk6KiIiKVSolMJpuoWKfTeUys0+kmCpDJZEQqlZKioiJC0zQBQBoaGtxiFAoFAXAaAH46f/68m6G0tJQAIN7e3h7ftBcvXvQI09zc7NHvylNaWuoOc/48AXCaAmC6f/++W2NFRUUBAOx2u9scTdMIDw/32JBhYWGgadpt3JUnMjLSbU4/oAeAh4iJifkqOzvbjdZutxOZTOaxyh07dhBCCNFqtSQ3N5csX76c7CwoIMNPGnTHjh0e42QyGbHb7W5rrV69mrwbEVGIdV98EREYGGizWCxupgG9nqSkpEwk4/F4JCcnhzgcDmIymUhUVNQziy1JSyNjY2PE4XCQnJwcwuPxJuY+SUkhAwN6tzUsFgsJCgoaW7N69UxszcuDr6/vse3bt3vsAUIIUSqVpLKykrS3t0+MdXV1uVX+Dp9Pni6qvb2dVFZWEqVSOWnu7du3E19f32Nbt2wBqqqqUFxcPMPf3998qqZm0qDn5XQ6SUVFBQkJCSE0TRNxeDj5d23tK8cTQsipmhri7+9vLv5r8Yyq76uAs2fPorW1FXl5eR/TND12vq7uVyV88OAB2bVrF7Farb8qrq6ujtAceiwvL+/jVlUrzv58FpTNZoPBYEBISEjD3Dlzli5btmxw//79YBjG49PiUn9/P/R6PYYMBvT392NoaAgajQauv8nJxDAM9u/fh2XL5IPz5s5bGhIc0mAwGGCz2cBeuXIl2Gw2NBoNAGhDZ8z4+ciRI+Jz585FCoVCSCQSj0ltNhvqFQpc7+pCREQEbty4gdHRUUgkEnA4HI8xtbW1WLt2Laqrfzz72aefrhIGCK/weDyEhob+/1/bZaQoCmNjY+D7+f0SGBj4GSEkWy6Xf5WamrooKSkJa9aseeZsEQqF+HzFCoyPj4PP52NkZAR+fn5gPffJqtVq8cMPx9HU9B8olcrLC2NjvwkICPiRz/fD6KgVFEVNeL3wnJxOJ8bHxyGNj/9n2IwZpy9fvpysVCo3ff/dd/MFQmHYBwkJSHhyBQUFMVwulwIAPp8/kePmzZuoqqpCY2MjTCaT7tatW51hYWGVf5TLLwQGBT3WVFfD6XS67ZwbjGuXzMPDYLPZj8Vicd2jx4/rAgMD/ZsuXkzu7Oh4/9ChQ/MTEhKyVCqV25f7gQMHUFJSonv48OE/ANxMTkq6MDw8bBKLxWB7ecFsNj+zGy+FAQAWiwWn0wmHwwEWiwW+n58JwCmJRIK7d+9O5XA4GQA4APDgwQMoFAqUl5ebrly5UuXj41MkEokG9Ho9eDweKIqCw+GA0+mctJ9eCOMSIQQ0TWNsfBwsFgtqtRoAdsbFxXFqamqgUChw8uTJdrPZ3Ajg7wDu8Pl8j7fhZXopDM3lwmg0orW1FYQQAIhhsVjrKisr/1VSUtIEQA3gvwAcrpiXHQuT6X98jRQArcqGeAAAAABJRU5ErkJggg==\" alt=\"logo\" style=\"float:left; margin-right:10px\">\n",
              "          Dataframe has 5 rows. Column <code>rating</code> has only 1 values which suggests it's a categorical feature.<br>After df is created, Consider converting it to categorical by using <code>df['rating'] = df['rating'].astype('category')</code>\n",
              "          <button type=\"button\" class=\"close\" data-dismiss=\"alert\" aria-label=\"Close\">\n",
              "            <span aria-hidden=\"true\">&times;</span>\n",
              "          </button>\n",
              "          <div style=\"font-size:0.7em;\">Line 1: <code>train_df = pd.read_csv(DATA_DIR/'train.csv',nrows=5)</code> </div>\n",
              "\n",
              "        </div>\n",
              "        "
            ],
            "text/plain": [
              "===== Dataframe has 5 rows. Column rating has only 1 values which suggests it's a categorical feature.\n",
              "After df is created, Consider converting it to categorical by using df['rating'] = df['rating'].astype('category') ===== (Line 1)"
            ]
          },
          "metadata": {
            "tags": []
          }
        },
        {
          "output_type": "display_data",
          "data": {
            "text/html": [
              "\n",
              "        <div class=\"alert alert-info\" role=\"alert\">\n",
              "          <img src=\"data:image/png;base64,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\" alt=\"logo\" style=\"float:left; margin-right:10px\">\n",
              "          columns 'created_date' looks like a datetime but the type is 'object' Consider using<br><code>df['created_date'] = pd.to_datetime(df.created_date)</code>\n",
              "          <button type=\"button\" class=\"close\" data-dismiss=\"alert\" aria-label=\"Close\">\n",
              "            <span aria-hidden=\"true\">&times;</span>\n",
              "          </button>\n",
              "          <div style=\"font-size:0.7em;\">Line 1: <code>train_df = pd.read_csv(DATA_DIR/'train.csv',nrows=5)</code> </div>\n",
              "\n",
              "        </div>\n",
              "        "
            ],
            "text/plain": [
              "===== columns 'created_date' looks like a datetime but the type is 'object' Consider using\n",
              "df['created_date'] = pd.to_datetime(df.created_date) ===== (Line 1)"
            ]
          },
          "metadata": {
            "tags": []
          }
        }
      ]
    },
    {
      "cell_type": "code",
      "metadata": {
        "id": "087HQZGNu_XQ",
        "colab_type": "code",
        "outputId": "1e4978c6-c543-415d-f0b8-e341ae576a0f",
        "colab": {
          "base_uri": "https://localhost:8080/",
          "height": 557
        }
      },
      "source": [
        "train_df.head(10)"
      ],
      "execution_count": 76,
      "outputs": [
        {
          "output_type": "execute_result",
          "data": {
            "text/html": [
              "<div>\n",
              "<style scoped>\n",
              "    .dataframe tbody tr th:only-of-type {\n",
              "        vertical-align: middle;\n",
              "    }\n",
              "\n",
              "    .dataframe tbody tr th {\n",
              "        vertical-align: top;\n",
              "    }\n",
              "\n",
              "    .dataframe thead th {\n",
              "        text-align: right;\n",
              "    }\n",
              "</style>\n",
              "<table border=\"1\" class=\"dataframe\">\n",
              "  <thead>\n",
              "    <tr style=\"text-align: right;\">\n",
              "      <th></th>\n",
              "      <th>id</th>\n",
              "      <th>target</th>\n",
              "      <th>comment_text</th>\n",
              "      <th>severe_toxicity</th>\n",
              "      <th>obscene</th>\n",
              "      <th>identity_attack</th>\n",
              "      <th>insult</th>\n",
              "      <th>threat</th>\n",
              "      <th>asian</th>\n",
              "      <th>atheist</th>\n",
              "      <th>bisexual</th>\n",
              "      <th>black</th>\n",
              "      <th>buddhist</th>\n",
              "      <th>christian</th>\n",
              "      <th>female</th>\n",
              "      <th>heterosexual</th>\n",
              "      <th>hindu</th>\n",
              "      <th>homosexual_gay_or_lesbian</th>\n",
              "      <th>intellectual_or_learning_disability</th>\n",
              "      <th>jewish</th>\n",
              "      <th>latino</th>\n",
              "      <th>male</th>\n",
              "      <th>muslim</th>\n",
              "      <th>other_disability</th>\n",
              "      <th>other_gender</th>\n",
              "      <th>other_race_or_ethnicity</th>\n",
              "      <th>other_religion</th>\n",
              "      <th>other_sexual_orientation</th>\n",
              "      <th>physical_disability</th>\n",
              "      <th>psychiatric_or_mental_illness</th>\n",
              "      <th>transgender</th>\n",
              "      <th>white</th>\n",
              "      <th>created_date</th>\n",
              "      <th>publication_id</th>\n",
              "      <th>parent_id</th>\n",
              "      <th>article_id</th>\n",
              "      <th>rating</th>\n",
              "      <th>funny</th>\n",
              "      <th>wow</th>\n",
              "      <th>sad</th>\n",
              "      <th>likes</th>\n",
              "      <th>disagree</th>\n",
              "      <th>sexual_explicit</th>\n",
              "      <th>identity_annotator_count</th>\n",
              "      <th>toxicity_annotator_count</th>\n",
              "      <th>target1</th>\n",
              "      <th>binary_target</th>\n",
              "    </tr>\n",
              "  </thead>\n",
              "  <tbody>\n",
              "    <tr>\n",
              "      <th>0</th>\n",
              "      <td>59848</td>\n",
              "      <td>0.000000</td>\n",
              "      <td>This is so cool. It's like, 'would you want yo...</td>\n",
              "      <td>0.000000</td>\n",
              "      <td>0.000000</td>\n",
              "      <td>0.000000</td>\n",
              "      <td>0.000000</td>\n",
              "      <td>0.0</td>\n",
              "      <td>NaN</td>\n",
              "      <td>NaN</td>\n",
              "      <td>NaN</td>\n",
              "      <td>NaN</td>\n",
              "      <td>NaN</td>\n",
              "      <td>NaN</td>\n",
              "      <td>NaN</td>\n",
              "      <td>NaN</td>\n",
              "      <td>NaN</td>\n",
              "      <td>NaN</td>\n",
              "      <td>NaN</td>\n",
              "      <td>NaN</td>\n",
              "      <td>NaN</td>\n",
              "      <td>NaN</td>\n",
              "      <td>NaN</td>\n",
              "      <td>NaN</td>\n",
              "      <td>NaN</td>\n",
              "      <td>NaN</td>\n",
              "      <td>NaN</td>\n",
              "      <td>NaN</td>\n",
              "      <td>NaN</td>\n",
              "      <td>NaN</td>\n",
              "      <td>NaN</td>\n",
              "      <td>NaN</td>\n",
              "      <td>2015-09-29 10:50:41.987077+00</td>\n",
              "      <td>2</td>\n",
              "      <td>NaN</td>\n",
              "      <td>2006</td>\n",
              "      <td>rejected</td>\n",
              "      <td>0</td>\n",
              "      <td>0</td>\n",
              "      <td>0</td>\n",
              "      <td>0</td>\n",
              "      <td>0</td>\n",
              "      <td>0.000000</td>\n",
              "      <td>0</td>\n",
              "      <td>4</td>\n",
              "      <td>0</td>\n",
              "      <td>0</td>\n",
              "    </tr>\n",
              "    <tr>\n",
              "      <th>1</th>\n",
              "      <td>59849</td>\n",
              "      <td>0.000000</td>\n",
              "      <td>Thank you!! This would make my life a lot less...</td>\n",
              "      <td>0.000000</td>\n",
              "      <td>0.000000</td>\n",
              "      <td>0.000000</td>\n",
              "      <td>0.000000</td>\n",
              "      <td>0.0</td>\n",
              "      <td>NaN</td>\n",
              "      <td>NaN</td>\n",
              "      <td>NaN</td>\n",
              "      <td>NaN</td>\n",
              "      <td>NaN</td>\n",
              "      <td>NaN</td>\n",
              "      <td>NaN</td>\n",
              "      <td>NaN</td>\n",
              "      <td>NaN</td>\n",
              "      <td>NaN</td>\n",
              "      <td>NaN</td>\n",
              "      <td>NaN</td>\n",
              "      <td>NaN</td>\n",
              "      <td>NaN</td>\n",
              "      <td>NaN</td>\n",
              "      <td>NaN</td>\n",
              "      <td>NaN</td>\n",
              "      <td>NaN</td>\n",
              "      <td>NaN</td>\n",
              "      <td>NaN</td>\n",
              "      <td>NaN</td>\n",
              "      <td>NaN</td>\n",
              "      <td>NaN</td>\n",
              "      <td>NaN</td>\n",
              "      <td>2015-09-29 10:50:42.870083+00</td>\n",
              "      <td>2</td>\n",
              "      <td>NaN</td>\n",
              "      <td>2006</td>\n",
              "      <td>rejected</td>\n",
              "      <td>0</td>\n",
              "      <td>0</td>\n",
              "      <td>0</td>\n",
              "      <td>0</td>\n",
              "      <td>0</td>\n",
              "      <td>0.000000</td>\n",
              "      <td>0</td>\n",
              "      <td>4</td>\n",
              "      <td>0</td>\n",
              "      <td>0</td>\n",
              "    </tr>\n",
              "    <tr>\n",
              "      <th>2</th>\n",
              "      <td>59852</td>\n",
              "      <td>0.000000</td>\n",
              "      <td>This is such an urgent design problem; kudos t...</td>\n",
              "      <td>0.000000</td>\n",
              "      <td>0.000000</td>\n",
              "      <td>0.000000</td>\n",
              "      <td>0.000000</td>\n",
              "      <td>0.0</td>\n",
              "      <td>NaN</td>\n",
              "      <td>NaN</td>\n",
              "      <td>NaN</td>\n",
              "      <td>NaN</td>\n",
              "      <td>NaN</td>\n",
              "      <td>NaN</td>\n",
              "      <td>NaN</td>\n",
              "      <td>NaN</td>\n",
              "      <td>NaN</td>\n",
              "      <td>NaN</td>\n",
              "      <td>NaN</td>\n",
              "      <td>NaN</td>\n",
              "      <td>NaN</td>\n",
              "      <td>NaN</td>\n",
              "      <td>NaN</td>\n",
              "      <td>NaN</td>\n",
              "      <td>NaN</td>\n",
              "      <td>NaN</td>\n",
              "      <td>NaN</td>\n",
              "      <td>NaN</td>\n",
              "      <td>NaN</td>\n",
              "      <td>NaN</td>\n",
              "      <td>NaN</td>\n",
              "      <td>NaN</td>\n",
              "      <td>2015-09-29 10:50:45.222647+00</td>\n",
              "      <td>2</td>\n",
              "      <td>NaN</td>\n",
              "      <td>2006</td>\n",
              "      <td>rejected</td>\n",
              "      <td>0</td>\n",
              "      <td>0</td>\n",
              "      <td>0</td>\n",
              "      <td>0</td>\n",
              "      <td>0</td>\n",
              "      <td>0.000000</td>\n",
              "      <td>0</td>\n",
              "      <td>4</td>\n",
              "      <td>0</td>\n",
              "      <td>0</td>\n",
              "    </tr>\n",
              "    <tr>\n",
              "      <th>3</th>\n",
              "      <td>59855</td>\n",
              "      <td>0.000000</td>\n",
              "      <td>Is this something I'll be able to install on m...</td>\n",
              "      <td>0.000000</td>\n",
              "      <td>0.000000</td>\n",
              "      <td>0.000000</td>\n",
              "      <td>0.000000</td>\n",
              "      <td>0.0</td>\n",
              "      <td>NaN</td>\n",
              "      <td>NaN</td>\n",
              "      <td>NaN</td>\n",
              "      <td>NaN</td>\n",
              "      <td>NaN</td>\n",
              "      <td>NaN</td>\n",
              "      <td>NaN</td>\n",
              "      <td>NaN</td>\n",
              "      <td>NaN</td>\n",
              "      <td>NaN</td>\n",
              "      <td>NaN</td>\n",
              "      <td>NaN</td>\n",
              "      <td>NaN</td>\n",
              "      <td>NaN</td>\n",
              "      <td>NaN</td>\n",
              "      <td>NaN</td>\n",
              "      <td>NaN</td>\n",
              "      <td>NaN</td>\n",
              "      <td>NaN</td>\n",
              "      <td>NaN</td>\n",
              "      <td>NaN</td>\n",
              "      <td>NaN</td>\n",
              "      <td>NaN</td>\n",
              "      <td>NaN</td>\n",
              "      <td>2015-09-29 10:50:47.601894+00</td>\n",
              "      <td>2</td>\n",
              "      <td>NaN</td>\n",
              "      <td>2006</td>\n",
              "      <td>rejected</td>\n",
              "      <td>0</td>\n",
              "      <td>0</td>\n",
              "      <td>0</td>\n",
              "      <td>0</td>\n",
              "      <td>0</td>\n",
              "      <td>0.000000</td>\n",
              "      <td>0</td>\n",
              "      <td>4</td>\n",
              "      <td>0</td>\n",
              "      <td>0</td>\n",
              "    </tr>\n",
              "    <tr>\n",
              "      <th>4</th>\n",
              "      <td>59856</td>\n",
              "      <td>0.893617</td>\n",
              "      <td>haha you guys are a bunch of losers.</td>\n",
              "      <td>0.021277</td>\n",
              "      <td>0.000000</td>\n",
              "      <td>0.021277</td>\n",
              "      <td>0.872340</td>\n",
              "      <td>0.0</td>\n",
              "      <td>0.0</td>\n",
              "      <td>0.0</td>\n",
              "      <td>0.0</td>\n",
              "      <td>0.0</td>\n",
              "      <td>0.0</td>\n",
              "      <td>0.0</td>\n",
              "      <td>0.0</td>\n",
              "      <td>0.0</td>\n",
              "      <td>0.0</td>\n",
              "      <td>0.0</td>\n",
              "      <td>0.25</td>\n",
              "      <td>0.0</td>\n",
              "      <td>0.0</td>\n",
              "      <td>0.0</td>\n",
              "      <td>0.0</td>\n",
              "      <td>0.0</td>\n",
              "      <td>0.0</td>\n",
              "      <td>0.0</td>\n",
              "      <td>0.0</td>\n",
              "      <td>0.0</td>\n",
              "      <td>0.0</td>\n",
              "      <td>0.0</td>\n",
              "      <td>0.0</td>\n",
              "      <td>0.0</td>\n",
              "      <td>2015-09-29 10:50:48.488476+00</td>\n",
              "      <td>2</td>\n",
              "      <td>NaN</td>\n",
              "      <td>2006</td>\n",
              "      <td>rejected</td>\n",
              "      <td>0</td>\n",
              "      <td>0</td>\n",
              "      <td>0</td>\n",
              "      <td>1</td>\n",
              "      <td>0</td>\n",
              "      <td>0.000000</td>\n",
              "      <td>4</td>\n",
              "      <td>47</td>\n",
              "      <td>1</td>\n",
              "      <td>1</td>\n",
              "    </tr>\n",
              "    <tr>\n",
              "      <th>5</th>\n",
              "      <td>59859</td>\n",
              "      <td>0.666667</td>\n",
              "      <td>ur a sh*tty comment.</td>\n",
              "      <td>0.047619</td>\n",
              "      <td>0.638095</td>\n",
              "      <td>0.000000</td>\n",
              "      <td>0.333333</td>\n",
              "      <td>0.0</td>\n",
              "      <td>NaN</td>\n",
              "      <td>NaN</td>\n",
              "      <td>NaN</td>\n",
              "      <td>NaN</td>\n",
              "      <td>NaN</td>\n",
              "      <td>NaN</td>\n",
              "      <td>NaN</td>\n",
              "      <td>NaN</td>\n",
              "      <td>NaN</td>\n",
              "      <td>NaN</td>\n",
              "      <td>NaN</td>\n",
              "      <td>NaN</td>\n",
              "      <td>NaN</td>\n",
              "      <td>NaN</td>\n",
              "      <td>NaN</td>\n",
              "      <td>NaN</td>\n",
              "      <td>NaN</td>\n",
              "      <td>NaN</td>\n",
              "      <td>NaN</td>\n",
              "      <td>NaN</td>\n",
              "      <td>NaN</td>\n",
              "      <td>NaN</td>\n",
              "      <td>NaN</td>\n",
              "      <td>NaN</td>\n",
              "      <td>2015-09-29 10:50:50.865549+00</td>\n",
              "      <td>2</td>\n",
              "      <td>NaN</td>\n",
              "      <td>2006</td>\n",
              "      <td>rejected</td>\n",
              "      <td>0</td>\n",
              "      <td>0</td>\n",
              "      <td>0</td>\n",
              "      <td>0</td>\n",
              "      <td>0</td>\n",
              "      <td>0.009524</td>\n",
              "      <td>0</td>\n",
              "      <td>105</td>\n",
              "      <td>1</td>\n",
              "      <td>1</td>\n",
              "    </tr>\n",
              "    <tr>\n",
              "      <th>6</th>\n",
              "      <td>59861</td>\n",
              "      <td>0.457627</td>\n",
              "      <td>hahahahahahahahhha suck it.</td>\n",
              "      <td>0.050847</td>\n",
              "      <td>0.305085</td>\n",
              "      <td>0.000000</td>\n",
              "      <td>0.254237</td>\n",
              "      <td>0.0</td>\n",
              "      <td>NaN</td>\n",
              "      <td>NaN</td>\n",
              "      <td>NaN</td>\n",
              "      <td>NaN</td>\n",
              "      <td>NaN</td>\n",
              "      <td>NaN</td>\n",
              "      <td>NaN</td>\n",
              "      <td>NaN</td>\n",
              "      <td>NaN</td>\n",
              "      <td>NaN</td>\n",
              "      <td>NaN</td>\n",
              "      <td>NaN</td>\n",
              "      <td>NaN</td>\n",
              "      <td>NaN</td>\n",
              "      <td>NaN</td>\n",
              "      <td>NaN</td>\n",
              "      <td>NaN</td>\n",
              "      <td>NaN</td>\n",
              "      <td>NaN</td>\n",
              "      <td>NaN</td>\n",
              "      <td>NaN</td>\n",
              "      <td>NaN</td>\n",
              "      <td>NaN</td>\n",
              "      <td>NaN</td>\n",
              "      <td>2015-09-29 10:50:52.451277+00</td>\n",
              "      <td>2</td>\n",
              "      <td>NaN</td>\n",
              "      <td>2006</td>\n",
              "      <td>rejected</td>\n",
              "      <td>0</td>\n",
              "      <td>0</td>\n",
              "      <td>0</td>\n",
              "      <td>0</td>\n",
              "      <td>0</td>\n",
              "      <td>0.220339</td>\n",
              "      <td>0</td>\n",
              "      <td>59</td>\n",
              "      <td>1</td>\n",
              "      <td>1</td>\n",
              "    </tr>\n",
              "    <tr>\n",
              "      <th>7</th>\n",
              "      <td>59863</td>\n",
              "      <td>0.000000</td>\n",
              "      <td>FFFFUUUUUUUUUUUUUUU</td>\n",
              "      <td>0.000000</td>\n",
              "      <td>0.000000</td>\n",
              "      <td>0.000000</td>\n",
              "      <td>0.000000</td>\n",
              "      <td>0.0</td>\n",
              "      <td>NaN</td>\n",
              "      <td>NaN</td>\n",
              "      <td>NaN</td>\n",
              "      <td>NaN</td>\n",
              "      <td>NaN</td>\n",
              "      <td>NaN</td>\n",
              "      <td>NaN</td>\n",
              "      <td>NaN</td>\n",
              "      <td>NaN</td>\n",
              "      <td>NaN</td>\n",
              "      <td>NaN</td>\n",
              "      <td>NaN</td>\n",
              "      <td>NaN</td>\n",
              "      <td>NaN</td>\n",
              "      <td>NaN</td>\n",
              "      <td>NaN</td>\n",
              "      <td>NaN</td>\n",
              "      <td>NaN</td>\n",
              "      <td>NaN</td>\n",
              "      <td>NaN</td>\n",
              "      <td>NaN</td>\n",
              "      <td>NaN</td>\n",
              "      <td>NaN</td>\n",
              "      <td>NaN</td>\n",
              "      <td>2015-09-29 10:50:54.055221+00</td>\n",
              "      <td>2</td>\n",
              "      <td>NaN</td>\n",
              "      <td>2006</td>\n",
              "      <td>rejected</td>\n",
              "      <td>0</td>\n",
              "      <td>0</td>\n",
              "      <td>0</td>\n",
              "      <td>0</td>\n",
              "      <td>0</td>\n",
              "      <td>0.000000</td>\n",
              "      <td>0</td>\n",
              "      <td>4</td>\n",
              "      <td>0</td>\n",
              "      <td>0</td>\n",
              "    </tr>\n",
              "    <tr>\n",
              "      <th>8</th>\n",
              "      <td>239575</td>\n",
              "      <td>0.000000</td>\n",
              "      <td>The ranchers seem motivated by mostly by greed...</td>\n",
              "      <td>0.000000</td>\n",
              "      <td>0.000000</td>\n",
              "      <td>0.000000</td>\n",
              "      <td>0.000000</td>\n",
              "      <td>0.0</td>\n",
              "      <td>NaN</td>\n",
              "      <td>NaN</td>\n",
              "      <td>NaN</td>\n",
              "      <td>NaN</td>\n",
              "      <td>NaN</td>\n",
              "      <td>NaN</td>\n",
              "      <td>NaN</td>\n",
              "      <td>NaN</td>\n",
              "      <td>NaN</td>\n",
              "      <td>NaN</td>\n",
              "      <td>NaN</td>\n",
              "      <td>NaN</td>\n",
              "      <td>NaN</td>\n",
              "      <td>NaN</td>\n",
              "      <td>NaN</td>\n",
              "      <td>NaN</td>\n",
              "      <td>NaN</td>\n",
              "      <td>NaN</td>\n",
              "      <td>NaN</td>\n",
              "      <td>NaN</td>\n",
              "      <td>NaN</td>\n",
              "      <td>NaN</td>\n",
              "      <td>NaN</td>\n",
              "      <td>NaN</td>\n",
              "      <td>2016-01-13 18:01:05.156229+00</td>\n",
              "      <td>6</td>\n",
              "      <td>NaN</td>\n",
              "      <td>26662</td>\n",
              "      <td>approved</td>\n",
              "      <td>0</td>\n",
              "      <td>0</td>\n",
              "      <td>0</td>\n",
              "      <td>0</td>\n",
              "      <td>0</td>\n",
              "      <td>0.000000</td>\n",
              "      <td>0</td>\n",
              "      <td>4</td>\n",
              "      <td>0</td>\n",
              "      <td>0</td>\n",
              "    </tr>\n",
              "    <tr>\n",
              "      <th>9</th>\n",
              "      <td>239576</td>\n",
              "      <td>0.000000</td>\n",
              "      <td>It was a great show. Not a combo I'd of expect...</td>\n",
              "      <td>0.000000</td>\n",
              "      <td>0.000000</td>\n",
              "      <td>0.000000</td>\n",
              "      <td>0.000000</td>\n",
              "      <td>0.0</td>\n",
              "      <td>NaN</td>\n",
              "      <td>NaN</td>\n",
              "      <td>NaN</td>\n",
              "      <td>NaN</td>\n",
              "      <td>NaN</td>\n",
              "      <td>NaN</td>\n",
              "      <td>NaN</td>\n",
              "      <td>NaN</td>\n",
              "      <td>NaN</td>\n",
              "      <td>NaN</td>\n",
              "      <td>NaN</td>\n",
              "      <td>NaN</td>\n",
              "      <td>NaN</td>\n",
              "      <td>NaN</td>\n",
              "      <td>NaN</td>\n",
              "      <td>NaN</td>\n",
              "      <td>NaN</td>\n",
              "      <td>NaN</td>\n",
              "      <td>NaN</td>\n",
              "      <td>NaN</td>\n",
              "      <td>NaN</td>\n",
              "      <td>NaN</td>\n",
              "      <td>NaN</td>\n",
              "      <td>NaN</td>\n",
              "      <td>2016-01-13 18:11:21.570460+00</td>\n",
              "      <td>6</td>\n",
              "      <td>239522.0</td>\n",
              "      <td>26650</td>\n",
              "      <td>approved</td>\n",
              "      <td>0</td>\n",
              "      <td>0</td>\n",
              "      <td>0</td>\n",
              "      <td>1</td>\n",
              "      <td>0</td>\n",
              "      <td>0.000000</td>\n",
              "      <td>0</td>\n",
              "      <td>4</td>\n",
              "      <td>0</td>\n",
              "      <td>0</td>\n",
              "    </tr>\n",
              "  </tbody>\n",
              "</table>\n",
              "</div>"
            ],
            "text/plain": [
              "       id    target  ... target1  binary_target\n",
              "0   59848  0.000000  ...       0              0\n",
              "1   59849  0.000000  ...       0              0\n",
              "2   59852  0.000000  ...       0              0\n",
              "3   59855  0.000000  ...       0              0\n",
              "4   59856  0.893617  ...       1              1\n",
              "5   59859  0.666667  ...       1              1\n",
              "6   59861  0.457627  ...       1              1\n",
              "7   59863  0.000000  ...       0              0\n",
              "8  239575  0.000000  ...       0              0\n",
              "9  239576  0.000000  ...       0              0\n",
              "\n",
              "[10 rows x 47 columns]"
            ]
          },
          "metadata": {
            "tags": []
          },
          "execution_count": 76
        }
      ]
    },
    {
      "cell_type": "code",
      "metadata": {
        "id": "0l4B3T63nFnZ",
        "colab_type": "code",
        "colab": {}
      },
      "source": [
        "plt.figure(figsize=(12,6))\n",
        "sns.distplot(train_df['target'])\n",
        "plt.show()"
      ],
      "execution_count": 0,
      "outputs": []
    },
    {
      "cell_type": "code",
      "metadata": {
        "id": "sOyzb9axuQG0",
        "colab_type": "code",
        "colab": {}
      },
      "source": [
        "pd.value_counts(train_df['binary_target']).plot.bar()\n",
        "plt.show()"
      ],
      "execution_count": 0,
      "outputs": []
    },
    {
      "cell_type": "code",
      "metadata": {
        "id": "rV07UgoMt1g_",
        "colab_type": "code",
        "colab": {}
      },
      "source": [
        "sns.pairplot(train_df,hue='target')"
      ],
      "execution_count": 0,
      "outputs": []
    },
    {
      "cell_type": "code",
      "metadata": {
        "id": "j4MWVAdlvBmg",
        "colab_type": "code",
        "colab": {}
      },
      "source": [
        "train_df.describe().T"
      ],
      "execution_count": 0,
      "outputs": []
    },
    {
      "cell_type": "code",
      "metadata": {
        "id": "DAV479lAvqcz",
        "colab_type": "code",
        "outputId": "875fe54f-04a6-4a46-8d88-d28de19da64d",
        "colab": {
          "base_uri": "https://localhost:8080/",
          "height": 235
        }
      },
      "source": [
        "train_df['target'].value_counts()"
      ],
      "execution_count": 19,
      "outputs": [
        {
          "output_type": "execute_result",
          "data": {
            "text/plain": [
              "0.000000    1264764\n",
              "0.166667     138501\n",
              "0.200000     107492\n",
              "0.300000      59098\n",
              "0.400000      50013\n",
              "             ...   \n",
              "0.813022          1\n",
              "0.967863          1\n",
              "0.897840          1\n",
              "0.945655          1\n",
              "0.872187          1\n",
              "Name: target, Length: 2913, dtype: int64"
            ]
          },
          "metadata": {
            "tags": []
          },
          "execution_count": 19
        }
      ]
    },
    {
      "cell_type": "code",
      "metadata": {
        "id": "kSUFhFy36iq8",
        "colab_type": "code",
        "colab": {}
      },
      "source": [
        "train_df['binary_target'] = (train_df['target'] > 0.15).astype(int)"
      ],
      "execution_count": 0,
      "outputs": []
    },
    {
      "cell_type": "code",
      "metadata": {
        "id": "Hz-t5Ng68Nnq",
        "colab_type": "code",
        "colab": {
          "base_uri": "https://localhost:8080/",
          "height": 72
        },
        "outputId": "681ac2c7-d436-4641-d8b6-6aeeb3d097f9"
      },
      "source": [
        "train_df['binary_target'].value_counts()"
      ],
      "execution_count": 11,
      "outputs": [
        {
          "output_type": "execute_result",
          "data": {
            "text/plain": [
              "0    1287296\n",
              "1     517578\n",
              "Name: binary_target, dtype: int64"
            ]
          },
          "metadata": {
            "tags": []
          },
          "execution_count": 11
        }
      ]
    },
    {
      "cell_type": "code",
      "metadata": {
        "id": "xw3Xph8xvCWR",
        "colab_type": "code",
        "colab": {}
      },
      "source": [
        "pd.value_counts(train_df['binary_target']).plot.bar()\n",
        "plt.show()"
      ],
      "execution_count": 0,
      "outputs": []
    },
    {
      "cell_type": "code",
      "metadata": {
        "id": "44nEM2sP6MjF",
        "colab_type": "code",
        "colab": {
          "base_uri": "https://localhost:8080/",
          "height": 363
        },
        "outputId": "474b7e89-2eff-4715-a8c0-e7f457d68647"
      },
      "source": [
        "train_df[[\"target\", \"binary_target\"]].tail(10)"
      ],
      "execution_count": 63,
      "outputs": [
        {
          "output_type": "execute_result",
          "data": {
            "text/html": [
              "<div>\n",
              "<style scoped>\n",
              "    .dataframe tbody tr th:only-of-type {\n",
              "        vertical-align: middle;\n",
              "    }\n",
              "\n",
              "    .dataframe tbody tr th {\n",
              "        vertical-align: top;\n",
              "    }\n",
              "\n",
              "    .dataframe thead th {\n",
              "        text-align: right;\n",
              "    }\n",
              "</style>\n",
              "<table border=\"1\" class=\"dataframe\">\n",
              "  <thead>\n",
              "    <tr style=\"text-align: right;\">\n",
              "      <th></th>\n",
              "      <th>target</th>\n",
              "      <th>binary_target</th>\n",
              "    </tr>\n",
              "  </thead>\n",
              "  <tbody>\n",
              "    <tr>\n",
              "      <th>1804864</th>\n",
              "      <td>0.000000</td>\n",
              "      <td>0</td>\n",
              "    </tr>\n",
              "    <tr>\n",
              "      <th>1804865</th>\n",
              "      <td>0.166667</td>\n",
              "      <td>1</td>\n",
              "    </tr>\n",
              "    <tr>\n",
              "      <th>1804866</th>\n",
              "      <td>0.300000</td>\n",
              "      <td>1</td>\n",
              "    </tr>\n",
              "    <tr>\n",
              "      <th>1804867</th>\n",
              "      <td>0.200000</td>\n",
              "      <td>1</td>\n",
              "    </tr>\n",
              "    <tr>\n",
              "      <th>1804868</th>\n",
              "      <td>0.000000</td>\n",
              "      <td>0</td>\n",
              "    </tr>\n",
              "    <tr>\n",
              "      <th>1804869</th>\n",
              "      <td>0.000000</td>\n",
              "      <td>0</td>\n",
              "    </tr>\n",
              "    <tr>\n",
              "      <th>1804870</th>\n",
              "      <td>0.000000</td>\n",
              "      <td>0</td>\n",
              "    </tr>\n",
              "    <tr>\n",
              "      <th>1804871</th>\n",
              "      <td>0.000000</td>\n",
              "      <td>0</td>\n",
              "    </tr>\n",
              "    <tr>\n",
              "      <th>1804872</th>\n",
              "      <td>0.621212</td>\n",
              "      <td>1</td>\n",
              "    </tr>\n",
              "    <tr>\n",
              "      <th>1804873</th>\n",
              "      <td>0.000000</td>\n",
              "      <td>0</td>\n",
              "    </tr>\n",
              "  </tbody>\n",
              "</table>\n",
              "</div>"
            ],
            "text/plain": [
              "           target  binary_target\n",
              "1804864  0.000000              0\n",
              "1804865  0.166667              1\n",
              "1804866  0.300000              1\n",
              "1804867  0.200000              1\n",
              "1804868  0.000000              0\n",
              "1804869  0.000000              0\n",
              "1804870  0.000000              0\n",
              "1804871  0.000000              0\n",
              "1804872  0.621212              1\n",
              "1804873  0.000000              0"
            ]
          },
          "metadata": {
            "tags": []
          },
          "execution_count": 63
        }
      ]
    },
    {
      "cell_type": "code",
      "metadata": {
        "id": "z999g-Bg7y5f",
        "colab_type": "code",
        "colab": {}
      },
      "source": [
        "import matplotlib.pyplot as plt\n"
      ],
      "execution_count": 0,
      "outputs": []
    },
    {
      "cell_type": "code",
      "metadata": {
        "id": "BME4BnU1TFwg",
        "colab_type": "code",
        "colab": {}
      },
      "source": [
        "def make_category_map(labels):\n",
        "    return {x: i for i, x in enumerate(sorted(set(labels)))}  #set(labels) converts to array"
      ],
      "execution_count": 0,
      "outputs": []
    },
    {
      "cell_type": "code",
      "metadata": {
        "id": "veZ_JHYFTMMx",
        "colab_type": "code",
        "colab": {}
      },
      "source": [
        "category_map = make_category_map(train_df[\"binary_target\"].values)"
      ],
      "execution_count": 0,
      "outputs": []
    },
    {
      "cell_type": "code",
      "metadata": {
        "id": "7SswtNcLV5GX",
        "colab_type": "code",
        "colab": {
          "base_uri": "https://localhost:8080/",
          "height": 35
        },
        "outputId": "507ecf0e-9164-452a-94c2-aa5b830938bc"
      },
      "source": [
        "len(category_map)"
      ],
      "execution_count": 15,
      "outputs": [
        {
          "output_type": "execute_result",
          "data": {
            "text/plain": [
              "2"
            ]
          },
          "metadata": {
            "tags": []
          },
          "execution_count": 15
        }
      ]
    },
    {
      "cell_type": "code",
      "metadata": {
        "id": "sXpSUSjvTQ9i",
        "colab_type": "code",
        "colab": {
          "base_uri": "https://localhost:8080/",
          "height": 35
        },
        "outputId": "7b707b51-174f-48ff-c3d4-b80b78ce4cd3"
      },
      "source": [
        "category_map"
      ],
      "execution_count": 16,
      "outputs": [
        {
          "output_type": "execute_result",
          "data": {
            "text/plain": [
              "{0: 0, 1: 1}"
            ]
          },
          "metadata": {
            "tags": []
          },
          "execution_count": 16
        }
      ]
    },
    {
      "cell_type": "code",
      "metadata": {
        "id": "dOLPiNslTX7j",
        "colab_type": "code",
        "colab": {}
      },
      "source": [
        "n_categories = len(category_map)"
      ],
      "execution_count": 0,
      "outputs": []
    },
    {
      "cell_type": "code",
      "metadata": {
        "id": "TP61UP0-_Q6V",
        "colab_type": "code",
        "colab": {}
      },
      "source": [
        "data_container = DataContainer(\n",
        "    *DataBundle.split(\n",
        "        data_bundle=DataBundle.from_dataframe(\n",
        "            dataframe=train_df, x_col=\"comment_text\", y_col=\"binary_target\"\n",
        "        ),\n",
        "        fracs=[0.02, 0.01, 0.01],\n",
        "    )\n",
        ")"
      ],
      "execution_count": 0,
      "outputs": []
    },
    {
      "cell_type": "code",
      "metadata": {
        "id": "jhIKagyD-Vj7",
        "colab_type": "code",
        "colab": {}
      },
      "source": [
        "data_container = DataContainer(\n",
        "    *DataBundle.split(\n",
        "        data_bundle=DataBundle.from_dataframe(\n",
        "            dataframe=train_df, x_col=\"comment_text\", y_col=\"target\"\n",
        "        ),\n",
        "        fracs=[0.02, 0.01, 0.01],\n",
        "    )\n",
        ")"
      ],
      "execution_count": 0,
      "outputs": []
    },
    {
      "cell_type": "code",
      "metadata": {
        "id": "D7EmxrxaAFQL",
        "colab_type": "code",
        "colab": {}
      },
      "source": [
        "class_weights = dict(\n",
        "    enumerate(\n",
        "        sk.utils.class_weight.compute_class_weight(\n",
        "            \"balanced\", np.unique(data_container.train.y), data_container.train.y\n",
        "        )\n",
        "    )\n",
        ")"
      ],
      "execution_count": 0,
      "outputs": []
    },
    {
      "cell_type": "code",
      "metadata": {
        "id": "knaJ9ZHtAOF7",
        "colab_type": "code",
        "colab": {
          "base_uri": "https://localhost:8080/",
          "height": 35
        },
        "outputId": "aa2b19e2-27e7-4f0c-f545-6ab7912db1f8"
      },
      "source": [
        "class_weights"
      ],
      "execution_count": 90,
      "outputs": [
        {
          "output_type": "execute_result",
          "data": {
            "text/plain": [
              "{0: 0.7013133354056574, 1: 1.7418452036286431}"
            ]
          },
          "metadata": {
            "tags": []
          },
          "execution_count": 90
        }
      ]
    },
    {
      "cell_type": "code",
      "metadata": {
        "id": "3XxBtWu1AQFO",
        "colab_type": "code",
        "outputId": "9abdb38e-b235-4738-c610-86aa2566b38e",
        "colab": {
          "base_uri": "https://localhost:8080/",
          "height": 35
        }
      },
      "source": [
        "len(data_container.train), len(data_container.validation), len(data_container.test)"
      ],
      "execution_count": 21,
      "outputs": [
        {
          "output_type": "execute_result",
          "data": {
            "text/plain": [
              "(36098, 18049, 18049)"
            ]
          },
          "metadata": {
            "tags": []
          },
          "execution_count": 21
        }
      ]
    },
    {
      "cell_type": "code",
      "metadata": {
        "id": "BPceJ6jHFJGi",
        "colab_type": "code",
        "colab": {
          "base_uri": "https://localhost:8080/",
          "height": 35
        },
        "outputId": "8be904f9-3064-4b76-95a2-dd7400416172"
      },
      "source": [
        "len(data_container_reg.train), len(data_container_reg.validation), len(data_container_reg.test)"
      ],
      "execution_count": 62,
      "outputs": [
        {
          "output_type": "execute_result",
          "data": {
            "text/plain": [
              "(36098, 18049, 18049)"
            ]
          },
          "metadata": {
            "tags": []
          },
          "execution_count": 62
        }
      ]
    },
    {
      "cell_type": "code",
      "metadata": {
        "id": "_eToRZ3zAewK",
        "colab_type": "code",
        "colab": {}
      },
      "source": [
        "def make_dataset(data_bundle):\n",
        "    return tf.data.Dataset.from_tensor_slices((data_bundle.x, data_bundle.y))"
      ],
      "execution_count": 0,
      "outputs": []
    },
    {
      "cell_type": "code",
      "metadata": {
        "id": "kpr1hhUaAjhi",
        "colab_type": "code",
        "colab": {}
      },
      "source": [
        "data_container.train.dataset = make_dataset(data_container.train)\n",
        "data_container.validation.dataset = make_dataset(data_container.validation)\n",
        "data_container.test.dataset = make_dataset(data_container.test)"
      ],
      "execution_count": 0,
      "outputs": []
    },
    {
      "cell_type": "code",
      "metadata": {
        "id": "9UwxLc8DAlYD",
        "colab_type": "code",
        "outputId": "b31ec857-a8aa-434e-c02d-c36320402460",
        "colab": {
          "base_uri": "https://localhost:8080/",
          "height": 35
        }
      },
      "source": [
        "data_container.train.x[95],data_container.train.y[95]\n"
      ],
      "execution_count": 25,
      "outputs": [
        {
          "output_type": "execute_result",
          "data": {
            "text/plain": [
              "('When had NK threatend us? Where have you been?', 1)"
            ]
          },
          "metadata": {
            "tags": []
          },
          "execution_count": 25
        }
      ]
    },
    {
      "cell_type": "code",
      "metadata": {
        "id": "U9zy-RJXAnuh",
        "colab_type": "code",
        "colab": {}
      },
      "source": [
        "def preprocess(x, y, max_length=100):\n",
        "    x = tf.strings.regex_replace(x, rb\"<br\\s*/>\", b\" \")\n",
        "    x = tf.strings.regex_replace(x, b\"[^a-zA-Z']\", b\" \")\n",
        "    x = tf.strings.split(x) #split space\n",
        "    x = x[:, :max_length]\n",
        "    return x.to_tensor(default_value=b\"<pad>\"), y #convert to regural tensor from ragged"
      ],
      "execution_count": 0,
      "outputs": []
    },
    {
      "cell_type": "code",
      "metadata": {
        "id": "cx_i0YE0B-ED",
        "colab_type": "code",
        "outputId": "0b78a5d1-9279-4dfa-ba42-9eac21797bf3",
        "colab": {
          "base_uri": "https://localhost:8080/",
          "height": 400
        }
      },
      "source": [
        "for x, y in data_container.train.dataset.batch(BATCH_SIZE).map(preprocess).take(1):\n",
        "    print(x.shape)\n",
        "    print(y.shape)\n",
        "    print(x[0])\n",
        "    print(y[0])"
      ],
      "execution_count": 10,
      "outputs": [
        {
          "output_type": "stream",
          "text": [
            "WARNING:tensorflow:From /usr/local/lib/python3.6/dist-packages/tensorflow_core/python/ops/ragged/ragged_tensor.py:1586: where (from tensorflow.python.ops.array_ops) is deprecated and will be removed in a future version.\n",
            "Instructions for updating:\n",
            "Use tf.where in 2.0, which has the same broadcast rule as np.where\n",
            "(16, 100)\n",
            "(16,)\n",
            "tf.Tensor(\n",
            "[b'Joe' b'you' b'need' b'to' b'stop' b'making' b'up' b'stories' b'about'\n",
            " b'Hillary' b'You' b'know' b'that' b'you' b'were' b'never' b'even'\n",
            " b'considered' b'a' b'candidate' b'for' b'it' b'was' b'always' b'Hillary'\n",
            " b'since' b'she' b'had' b'to' b'wait' b'eight' b'years' b'for' b'Barack'\n",
            " b'You' b'will' b'never' b'be' b'the' b'president' b'of' b'America' b'Joe'\n",
            " b'you' b\"aren't\" b'really' b'an' b'American' b'only' b'in' b'your'\n",
            " b'mind' b'<pad>' b'<pad>' b'<pad>' b'<pad>' b'<pad>' b'<pad>' b'<pad>'\n",
            " b'<pad>' b'<pad>' b'<pad>' b'<pad>' b'<pad>' b'<pad>' b'<pad>' b'<pad>'\n",
            " b'<pad>' b'<pad>' b'<pad>' b'<pad>' b'<pad>' b'<pad>' b'<pad>' b'<pad>'\n",
            " b'<pad>' b'<pad>' b'<pad>' b'<pad>' b'<pad>' b'<pad>' b'<pad>' b'<pad>'\n",
            " b'<pad>' b'<pad>' b'<pad>' b'<pad>' b'<pad>' b'<pad>' b'<pad>' b'<pad>'\n",
            " b'<pad>' b'<pad>' b'<pad>' b'<pad>' b'<pad>' b'<pad>' b'<pad>' b'<pad>'\n",
            " b'<pad>'], shape=(100,), dtype=string)\n",
            "tf.Tensor(0.0, shape=(), dtype=float64)\n"
          ],
          "name": "stdout"
        }
      ]
    },
    {
      "cell_type": "code",
      "metadata": {
        "id": "J_z4NOO9CDKs",
        "colab_type": "code",
        "colab": {}
      },
      "source": [
        "def make_vocabulary(dataset):\n",
        "    vocabulary = Counter()\n",
        "    for x, _ in dataset.batch(BATCH_SIZE).map(preprocess):\n",
        "        for review in x:\n",
        "            vocabulary.update(review.numpy().tolist())\n",
        "    return vocabulary"
      ],
      "execution_count": 0,
      "outputs": []
    },
    {
      "cell_type": "code",
      "metadata": {
        "id": "uu0Uv4q2Ck8H",
        "colab_type": "code",
        "colab": {}
      },
      "source": [
        "VOCABULARY_SIZE = 10000"
      ],
      "execution_count": 0,
      "outputs": []
    },
    {
      "cell_type": "code",
      "metadata": {
        "id": "jdu5jlSnCmnt",
        "colab_type": "code",
        "colab": {}
      },
      "source": [
        "vocabulary = make_vocabulary(data_container.train.dataset)"
      ],
      "execution_count": 0,
      "outputs": []
    },
    {
      "cell_type": "code",
      "metadata": {
        "id": "ECLi7hrvCpHG",
        "colab_type": "code",
        "outputId": "d13757fe-6d2b-4a52-bc16-8165a3786859",
        "colab": {
          "base_uri": "https://localhost:8080/",
          "height": 380
        }
      },
      "source": [
        "vocabulary.most_common()[:20]"
      ],
      "execution_count": 32,
      "outputs": [
        {
          "output_type": "execute_result",
          "data": {
            "text/plain": [
              "[(b'<pad>', 1960236),\n",
              " (b'the', 74365),\n",
              " (b'to', 45579),\n",
              " (b'and', 36937),\n",
              " (b'of', 34623),\n",
              " (b'a', 33206),\n",
              " (b'is', 26219),\n",
              " (b'in', 22709),\n",
              " (b'that', 21299),\n",
              " (b'I', 16016),\n",
              " (b'for', 15957),\n",
              " (b'you', 14103),\n",
              " (b'it', 13231),\n",
              " (b'are', 12817),\n",
              " (b'not', 11266),\n",
              " (b'be', 11088),\n",
              " (b'on', 10528),\n",
              " (b'have', 10458),\n",
              " (b'with', 9967),\n",
              " (b'The', 8182)]"
            ]
          },
          "metadata": {
            "tags": []
          },
          "execution_count": 32
        }
      ]
    },
    {
      "cell_type": "code",
      "metadata": {
        "id": "Y48FTL8vRW--",
        "colab_type": "code",
        "colab": {
          "base_uri": "https://localhost:8080/",
          "height": 35
        },
        "outputId": "6e834d77-0b01-4d4c-efa1-ebd621343e04"
      },
      "source": [
        "len(vocabulary)"
      ],
      "execution_count": 33,
      "outputs": [
        {
          "output_type": "execute_result",
          "data": {
            "text/plain": [
              "60009"
            ]
          },
          "metadata": {
            "tags": []
          },
          "execution_count": 33
        }
      ]
    },
    {
      "cell_type": "code",
      "metadata": {
        "id": "pFQYWMT8RXq3",
        "colab_type": "code",
        "colab": {}
      },
      "source": [
        "truncated_vocabulary = [\n",
        "    word for word, count in vocabulary.most_common()[:VOCABULARY_SIZE]\n",
        "]"
      ],
      "execution_count": 0,
      "outputs": []
    },
    {
      "cell_type": "code",
      "metadata": {
        "id": "ksl0a8RMRZ6q",
        "colab_type": "code",
        "colab": {
          "base_uri": "https://localhost:8080/",
          "height": 35
        },
        "outputId": "6b5b8d96-999d-48a3-ead0-eb6db7cf5f50"
      },
      "source": [
        "len(truncated_vocabulary)"
      ],
      "execution_count": 35,
      "outputs": [
        {
          "output_type": "execute_result",
          "data": {
            "text/plain": [
              "10000"
            ]
          },
          "metadata": {
            "tags": []
          },
          "execution_count": 35
        }
      ]
    },
    {
      "cell_type": "code",
      "metadata": {
        "id": "gyCvkOKXRbdu",
        "colab_type": "code",
        "colab": {}
      },
      "source": [
        "word_to_id = {word: index for index, word in enumerate(truncated_vocabulary)}"
      ],
      "execution_count": 0,
      "outputs": []
    },
    {
      "cell_type": "code",
      "metadata": {
        "id": "QRvrmgM8RdpN",
        "colab_type": "code",
        "colab": {
          "base_uri": "https://localhost:8080/",
          "height": 181
        },
        "outputId": "b44b4098-db93-4362-942f-77599da237cf"
      },
      "source": [
        "for word in b\"I hate democrats because they are losers and asdasfasdas\".split():\n",
        "    print(word_to_id.get(word) or VOCABULARY_SIZE)"
      ],
      "execution_count": 37,
      "outputs": [
        {
          "output_type": "stream",
          "text": [
            "9\n",
            "432\n",
            "1940\n",
            "79\n",
            "20\n",
            "13\n",
            "3434\n",
            "3\n",
            "10000\n"
          ],
          "name": "stdout"
        }
      ]
    },
    {
      "cell_type": "code",
      "metadata": {
        "id": "e4Y0Q-NeRiNl",
        "colab_type": "code",
        "colab": {
          "base_uri": "https://localhost:8080/",
          "height": 72
        },
        "outputId": "e697e6d7-bbf6-4efc-e14f-034ce67b8efd"
      },
      "source": [
        "words = tf.constant(truncated_vocabulary) # convert to tensor \n",
        "words"
      ],
      "execution_count": 99,
      "outputs": [
        {
          "output_type": "execute_result",
          "data": {
            "text/plain": [
              "<tf.Tensor: id=550458, shape=(10000,), dtype=string, numpy=\n",
              "array([b'<pad>', b'the', b'to', ..., b'isis', b'Polynesian', b'Hawai'],\n",
              "      dtype=object)>"
            ]
          },
          "metadata": {
            "tags": []
          },
          "execution_count": 99
        }
      ]
    },
    {
      "cell_type": "code",
      "metadata": {
        "id": "4P-Ha7UzRvwO",
        "colab_type": "code",
        "colab": {
          "base_uri": "https://localhost:8080/",
          "height": 35
        },
        "outputId": "93d80911-9b43-45cc-a58c-db2620fbda90"
      },
      "source": [
        "word_ids = tf.range(len(truncated_vocabulary), dtype=tf.int64)\n",
        "print(word_ids)"
      ],
      "execution_count": 17,
      "outputs": [
        {
          "output_type": "stream",
          "text": [
            "tf.Tensor([   0    1    2 ... 9997 9998 9999], shape=(10000,), dtype=int64)\n"
          ],
          "name": "stdout"
        }
      ]
    },
    {
      "cell_type": "code",
      "metadata": {
        "id": "hi4RGoyDRzjq",
        "colab_type": "code",
        "colab": {}
      },
      "source": [
        "vocab_init = tf.lookup.KeyValueTensorInitializer(words, word_ids)\n"
      ],
      "execution_count": 0,
      "outputs": []
    },
    {
      "cell_type": "code",
      "metadata": {
        "id": "XQkCl2jhR13V",
        "colab_type": "code",
        "colab": {}
      },
      "source": [
        "n_oov_buckets = 1000"
      ],
      "execution_count": 0,
      "outputs": []
    },
    {
      "cell_type": "code",
      "metadata": {
        "id": "0ojfFJu6SIX9",
        "colab_type": "code",
        "colab": {}
      },
      "source": [
        "table = tf.lookup.StaticVocabularyTable(vocab_init, n_oov_buckets)"
      ],
      "execution_count": 0,
      "outputs": []
    },
    {
      "cell_type": "code",
      "metadata": {
        "id": "Sf5nfeZwSKFh",
        "colab_type": "code",
        "colab": {
          "base_uri": "https://localhost:8080/",
          "height": 55
        },
        "outputId": "2292872a-9b77-4dfb-d1df-8b3d34d4d8d8"
      },
      "source": [
        "table.lookup(tf.constant([b\"I hate democrats because they are losers and asdasfasdas\".split()]))"
      ],
      "execution_count": 43,
      "outputs": [
        {
          "output_type": "execute_result",
          "data": {
            "text/plain": [
              "<tf.Tensor: id=149226, shape=(1, 9), dtype=int64, numpy=array([[    9,   432,  1940,    79,    20,    13,  3434,     3, 10344]])>"
            ]
          },
          "metadata": {
            "tags": []
          },
          "execution_count": 43
        }
      ]
    },
    {
      "cell_type": "code",
      "metadata": {
        "id": "-f5h7e_4SQzq",
        "colab_type": "code",
        "colab": {}
      },
      "source": [
        "def encode_words(x, y):\n",
        "    return table.lookup(x), y"
      ],
      "execution_count": 0,
      "outputs": []
    },
    {
      "cell_type": "code",
      "metadata": {
        "id": "qnkQ2py8STw-",
        "colab_type": "code",
        "colab": {}
      },
      "source": [
        "def encode_categories(x, y):\n",
        "    return table.lookup(x), y"
      ],
      "execution_count": 0,
      "outputs": []
    },
    {
      "cell_type": "code",
      "metadata": {
        "id": "Nt_02v05SU8N",
        "colab_type": "code",
        "colab": {}
      },
      "source": [
        "train_dataset = (\n",
        "    data_container.train.dataset.repeat()\n",
        "    .batch(BATCH_SIZE)\n",
        "    .map(preprocess)\n",
        "    .map(encode_words)\n",
        "    .prefetch(1)\n",
        ")"
      ],
      "execution_count": 0,
      "outputs": []
    },
    {
      "cell_type": "code",
      "metadata": {
        "id": "4CgzV2DgSWKO",
        "colab_type": "code",
        "colab": {}
      },
      "source": [
        "validation_dataset = (\n",
        "    data_container.validation.dataset.batch(BATCH_SIZE)\n",
        "    .map(preprocess)\n",
        "    .map(encode_words)\n",
        ")"
      ],
      "execution_count": 0,
      "outputs": []
    },
    {
      "cell_type": "code",
      "metadata": {
        "id": "hTuJi76uSXwq",
        "colab_type": "code",
        "colab": {
          "base_uri": "https://localhost:8080/",
          "height": 253
        },
        "outputId": "4c6703ba-dad5-4870-fb91-978c70c820c8"
      },
      "source": [
        "for x, y in train_dataset.take(1):\n",
        "    print(x.shape)\n",
        "    print(y.shape)\n",
        "    print(x[3])\n",
        "    print(y[3])"
      ],
      "execution_count": 25,
      "outputs": [
        {
          "output_type": "stream",
          "text": [
            "(16, 100)\n",
            "(16,)\n",
            "tf.Tensor(\n",
            "[ 9248   482    13   645  2305  5626     3   330    38   388  1043 10622\n",
            "    52    41  4252     2  1310   151    18  1645  5811 10809   335   857\n",
            "    44   789     3    44  8292   300  2250   112    14    15   604   824\n",
            "    66   212  4537    30    66  2280  3160     0     0     0     0     0\n",
            "     0     0     0     0     0     0     0     0     0     0     0     0\n",
            "     0     0     0     0     0     0     0     0     0     0     0     0\n",
            "     0     0     0     0     0     0     0     0     0     0     0     0\n",
            "     0     0     0     0     0     0     0     0     0     0     0     0\n",
            "     0     0     0     0], shape=(100,), dtype=int64)\n",
            "tf.Tensor(0.2, shape=(), dtype=float64)\n"
          ],
          "name": "stdout"
        }
      ]
    },
    {
      "cell_type": "code",
      "metadata": {
        "id": "d6AcfYnwFiZR",
        "colab_type": "code",
        "colab": {}
      },
      "source": [
        ""
      ],
      "execution_count": 0,
      "outputs": []
    },
    {
      "cell_type": "code",
      "metadata": {
        "id": "n7pY5jwuSZNX",
        "colab_type": "code",
        "colab": {
          "base_uri": "https://localhost:8080/",
          "height": 253
        },
        "outputId": "18c6eb71-c383-4056-dd6c-03b10cbe7657"
      },
      "source": [
        "for x, y in validation_dataset.take(1):\n",
        "    print(x.shape)\n",
        "    print(y.shape)\n",
        "    print(x[3])\n",
        "    print(y[3])\n",
        "    \n",
        "    # 0 = padding"
      ],
      "execution_count": 49,
      "outputs": [
        {
          "output_type": "stream",
          "text": [
            "(16, 100)\n",
            "(16,)\n",
            "tf.Tensor(\n",
            "[ 7248    31  6997     4 10036  1275     7   511   293    54     6     5\n",
            "  1882    30     1   511    13   445 10199   127   138 10738 10656  5078\n",
            "    28     1   998     1  8633  1083    27 10990     2  7753   102     3\n",
            "   844     1  3479     8   102  1090    63    26    33 10466    65    23\n",
            "  6527     3  2643     2   498   320    20    13   288     2   222    51\n",
            "     1   528    19   176   471     4   230     6     2   137   186     4\n",
            "   371     3   222     5    89     2   700     1  1940  4078   399 10170\n",
            " 10273    10  1158  3370   177   791    92    20   106  7753   198   479\n",
            "    29     1  1158   103], shape=(100,), dtype=int64)\n",
            "tf.Tensor(1, shape=(), dtype=int64)\n"
          ],
          "name": "stdout"
        }
      ]
    },
    {
      "cell_type": "code",
      "metadata": {
        "id": "DkdawV3mSc6s",
        "colab_type": "code",
        "colab": {}
      },
      "source": [
        "train_dataset_steps = len(data_container.train) // BATCH_SIZE"
      ],
      "execution_count": 0,
      "outputs": []
    },
    {
      "cell_type": "code",
      "metadata": {
        "id": "QVfIJqQHSev4",
        "colab_type": "code",
        "colab": {}
      },
      "source": [
        "validation_dataset_steps = len(data_container.validation) // BATCH_SIZE"
      ],
      "execution_count": 0,
      "outputs": []
    },
    {
      "cell_type": "code",
      "metadata": {
        "id": "6yhZNkjUl2z7",
        "colab_type": "code",
        "colab": {}
      },
      "source": [
        ""
      ],
      "execution_count": 0,
      "outputs": []
    },
    {
      "cell_type": "markdown",
      "metadata": {
        "id": "jlGkTfispwN0",
        "colab_type": "text"
      },
      "source": [
        "RNN classification"
      ]
    },
    {
      "cell_type": "code",
      "metadata": {
        "id": "EW7bCDF2SgFx",
        "colab_type": "code",
        "colab": {}
      },
      "source": [
        "def make_sequential_classification_lstm_model(\n",
        "    n_categories, embedding_size, lstm_size, lstm_dropout, dropout\n",
        "):\n",
        "    return keras.models.Sequential(\n",
        "        [\n",
        "            keras.layers.Embedding(\n",
        "                VOCABULARY_SIZE + n_oov_buckets,\n",
        "                embedding_size,\n",
        "                mask_zero=True,\n",
        "                input_shape=[None],\n",
        "            ),\n",
        "            keras.layers.Bidirectional(\n",
        "                keras.layers.LSTM(\n",
        "                    lstm_size, dropout=lstm_dropout, return_sequences=True\n",
        "                )\n",
        "            ),\n",
        "            keras.layers.Bidirectional(\n",
        "                keras.layers.LSTM(\n",
        "                    lstm_size, dropout=lstm_dropout, return_sequences=True\n",
        "                )\n",
        "            ),\n",
        "            keras.layers.GlobalMaxPool1D(),\n",
        "            keras.layers.Dropout(dropout),\n",
        "            keras.layers.Dense(n_categories, activation=keras.activations.softmax),\n",
        "        ]\n",
        "    )"
      ],
      "execution_count": 0,
      "outputs": []
    },
    {
      "cell_type": "code",
      "metadata": {
        "id": "r10816q_Sh5I",
        "colab_type": "code",
        "colab": {}
      },
      "source": [
        "model = make_sequential_classification_lstm_model(\n",
        "    n_categories=n_categories,\n",
        "    embedding_size=16,\n",
        "    lstm_size=16,\n",
        "    lstm_dropout=0.2,\n",
        "    dropout=0.1,\n",
        ")"
      ],
      "execution_count": 0,
      "outputs": []
    },
    {
      "cell_type": "code",
      "metadata": {
        "id": "Xxm0vpW9Sm6W",
        "colab_type": "code",
        "colab": {}
      },
      "source": [
        "model.compile(\n",
        "    loss=keras.losses.sparse_categorical_crossentropy,\n",
        "    optimizer=keras.optimizers.Adam(lr=3e-4),\n",
        "    metrics=[\n",
        "        keras.metrics.sparse_categorical_accuracy,\n",
        "        \n",
        "    ],\n",
        ")"
      ],
      "execution_count": 0,
      "outputs": []
    },
    {
      "cell_type": "code",
      "metadata": {
        "id": "xrRJgB-SSvHD",
        "colab_type": "code",
        "colab": {
          "base_uri": "https://localhost:8080/",
          "height": 237
        },
        "outputId": "837defd5-5f37-42e1-edc3-44e5811bf7e0"
      },
      "source": [
        "history = model.fit(\n",
        "    train_dataset,\n",
        "    steps_per_epoch=train_dataset_steps,\n",
        "    validation_data=validation_dataset,\n",
        "    validation_steps=validation_dataset_steps,\n",
        "    epochs=5,\n",
        "    callbacks=[\n",
        "        keras.callbacks.ReduceLROnPlateau(patience=2, factor=0.3),\n",
        "        keras.callbacks.EarlyStopping(patience=4, restore_best_weights=True),\n",
        "    ],\n",
        "    class_weight=class_weights,\n",
        ")"
      ],
      "execution_count": 58,
      "outputs": [
        {
          "output_type": "stream",
          "text": [
            "Train for 2256 steps, validate for 1128 steps\n",
            "Epoch 1/5\n",
            "2256/2256 [==============================] - 332s 147ms/step - loss: 0.4697 - sparse_categorical_accuracy: 0.7881 - val_loss: 0.5045 - val_sparse_categorical_accuracy: 0.7721\n",
            "Epoch 2/5\n",
            "2256/2256 [==============================] - 323s 143ms/step - loss: 0.4013 - sparse_categorical_accuracy: 0.8267 - val_loss: 0.5026 - val_sparse_categorical_accuracy: 0.7727\n",
            "Epoch 3/5\n",
            "2256/2256 [==============================] - 321s 142ms/step - loss: 0.3586 - sparse_categorical_accuracy: 0.8503 - val_loss: 0.5142 - val_sparse_categorical_accuracy: 0.7681\n",
            "Epoch 4/5\n",
            "2256/2256 [==============================] - 333s 148ms/step - loss: 0.3240 - sparse_categorical_accuracy: 0.8679 - val_loss: 0.5391 - val_sparse_categorical_accuracy: 0.7581\n",
            "Epoch 5/5\n",
            "2256/2256 [==============================] - 392s 174ms/step - loss: 0.2681 - sparse_categorical_accuracy: 0.8951 - val_loss: 0.5933 - val_sparse_categorical_accuracy: 0.7511\n"
          ],
          "name": "stdout"
        }
      ]
    },
    {
      "cell_type": "code",
      "metadata": {
        "id": "PVcRXHVHTl6t",
        "colab_type": "code",
        "colab": {
          "base_uri": "https://localhost:8080/",
          "height": 53
        },
        "outputId": "a10de2de-d850-4d18-eaf1-b381ecccf381"
      },
      "source": [
        "model.evaluate(validation_dataset, steps=validation_dataset_steps)"
      ],
      "execution_count": 59,
      "outputs": [
        {
          "output_type": "stream",
          "text": [
            "1128/1128 [==============================] - 38s 34ms/step - loss: 0.5933 - sparse_categorical_accuracy: 0.7511\n"
          ],
          "name": "stdout"
        },
        {
          "output_type": "execute_result",
          "data": {
            "text/plain": [
              "[0.5932573684233617, 0.75110817]"
            ]
          },
          "metadata": {
            "tags": []
          },
          "execution_count": 59
        }
      ]
    },
    {
      "cell_type": "code",
      "metadata": {
        "id": "aoBvuEGjMGhF",
        "colab_type": "code",
        "colab": {
          "base_uri": "https://localhost:8080/",
          "height": 181
        },
        "outputId": "8940d231-fe21-4ad0-8465-a812568a0b02"
      },
      "source": [
        "print(\n",
        "    classification_report(\n",
        "        data_container.validation.y, model.predict(validation_dataset).argmax(axis=1)\n",
        "    )\n",
        ")"
      ],
      "execution_count": 60,
      "outputs": [
        {
          "output_type": "stream",
          "text": [
            "              precision    recall  f1-score   support\n",
            "\n",
            "           0       0.81      0.86      0.83     12904\n",
            "           1       0.57      0.49      0.53      5145\n",
            "\n",
            "    accuracy                           0.75     18049\n",
            "   macro avg       0.69      0.67      0.68     18049\n",
            "weighted avg       0.74      0.75      0.74     18049\n",
            "\n"
          ],
          "name": "stdout"
        }
      ]
    },
    {
      "cell_type": "code",
      "metadata": {
        "id": "_z0WsDEgqCP5",
        "colab_type": "code",
        "colab": {}
      },
      "source": [
        ""
      ],
      "execution_count": 0,
      "outputs": []
    },
    {
      "cell_type": "markdown",
      "metadata": {
        "id": "gPAO4qxgqDfH",
        "colab_type": "text"
      },
      "source": [
        "RNN regression"
      ]
    },
    {
      "cell_type": "code",
      "metadata": {
        "id": "3q-ZV5ucO4OF",
        "colab_type": "code",
        "colab": {}
      },
      "source": [
        "def make_sequential_regression_lstm_model(\n",
        "     embedding_size, lstm_size, lstm_dropout, dropout\n",
        "):\n",
        "    return keras.models.Sequential(\n",
        "        [\n",
        "            keras.layers.Embedding(\n",
        "                VOCABULARY_SIZE + n_oov_buckets,\n",
        "                embedding_size,\n",
        "                mask_zero=True,\n",
        "                input_shape=[None],\n",
        "            ),\n",
        "            keras.layers.Bidirectional(\n",
        "                keras.layers.LSTM(\n",
        "                    lstm_size, dropout=lstm_dropout, return_sequences=True\n",
        "                )\n",
        "            ),\n",
        "            keras.layers.Bidirectional(\n",
        "                keras.layers.LSTM(\n",
        "                    lstm_size, dropout=lstm_dropout, return_sequences=True\n",
        "                )\n",
        "            ),\n",
        "            keras.layers.GlobalMaxPool1D(),\n",
        "            keras.layers.Dropout(dropout),\n",
        "            keras.layers.Dense(1, activation=keras.activations.sigmoid),\n",
        "        ]\n",
        "    )"
      ],
      "execution_count": 0,
      "outputs": []
    },
    {
      "cell_type": "code",
      "metadata": {
        "id": "XaKuC_LL-vN-",
        "colab_type": "code",
        "colab": {}
      },
      "source": [
        "model = make_sequential_regression_lstm_model(\n",
        "    embedding_size=16,\n",
        "    lstm_size=16,\n",
        "    lstm_dropout=0.2,\n",
        "    dropout=0.1,\n",
        ")"
      ],
      "execution_count": 0,
      "outputs": []
    },
    {
      "cell_type": "code",
      "metadata": {
        "id": "GKEJIa19KElj",
        "colab_type": "code",
        "colab": {}
      },
      "source": [
        "model.compile(\n",
        "    loss=keras.losses.binary_crossentropy,\n",
        "    optimizer=keras.optimizers.Adam(lr=3e-4),\n",
        "    metrics=[\n",
        "        keras.metrics.binary_accuracy,\n",
        "        \n",
        "    ],\n",
        ")"
      ],
      "execution_count": 0,
      "outputs": []
    },
    {
      "cell_type": "code",
      "metadata": {
        "id": "-TBie7ukGSlC",
        "colab_type": "code",
        "colab": {
          "base_uri": "https://localhost:8080/",
          "height": 237
        },
        "outputId": "a08abde1-38e6-4f9f-adff-2c7479c09333"
      },
      "source": [
        "history = model.fit(\n",
        "    train_dataset,\n",
        "    steps_per_epoch=train_dataset_steps,\n",
        "    validation_data=validation_dataset,\n",
        "    validation_steps=validation_dataset_steps,\n",
        "    epochs=5,\n",
        "    callbacks=[\n",
        "        keras.callbacks.ReduceLROnPlateau(patience=2, factor=0.3),\n",
        "        keras.callbacks.EarlyStopping(patience=4, restore_best_weights=True),\n",
        "    ],\n",
        "    \n",
        ")"
      ],
      "execution_count": 51,
      "outputs": [
        {
          "output_type": "stream",
          "text": [
            "Train for 2256 steps, validate for 1128 steps\n",
            "Epoch 1/5\n",
            "2256/2256 [==============================] - 411s 182ms/step - loss: 0.3124 - binary_accuracy: 0.7002 - val_loss: 0.2903 - val_binary_accuracy: 0.6992\n",
            "Epoch 2/5\n",
            "2256/2256 [==============================] - 378s 168ms/step - loss: 0.2689 - binary_accuracy: 0.6992 - val_loss: 0.2749 - val_binary_accuracy: 0.6991\n",
            "Epoch 3/5\n",
            "2256/2256 [==============================] - 371s 165ms/step - loss: 0.2529 - binary_accuracy: 0.6997 - val_loss: 0.2727 - val_binary_accuracy: 0.6982\n",
            "Epoch 4/5\n",
            "2256/2256 [==============================] - 356s 158ms/step - loss: 0.2454 - binary_accuracy: 0.7004 - val_loss: 0.2739 - val_binary_accuracy: 0.6974\n",
            "Epoch 5/5\n",
            "2256/2256 [==============================] - 342s 151ms/step - loss: 0.2407 - binary_accuracy: 0.7004 - val_loss: 0.2749 - val_binary_accuracy: 0.6978\n"
          ],
          "name": "stdout"
        }
      ]
    },
    {
      "cell_type": "code",
      "metadata": {
        "id": "GJCF1Q4cY2sm",
        "colab_type": "code",
        "colab": {
          "base_uri": "https://localhost:8080/",
          "height": 53
        },
        "outputId": "9f950e53-4191-409c-af44-564d8962971b"
      },
      "source": [
        "model.evaluate(validation_dataset, steps=validation_dataset_steps)"
      ],
      "execution_count": 52,
      "outputs": [
        {
          "output_type": "stream",
          "text": [
            "1128/1128 [==============================] - 33s 30ms/step - loss: 0.2749 - binary_accuracy: 0.6978\n"
          ],
          "name": "stdout"
        },
        {
          "output_type": "execute_result",
          "data": {
            "text/plain": [
              "[0.2748548352384134, 0.6978058]"
            ]
          },
          "metadata": {
            "tags": []
          },
          "execution_count": 52
        }
      ]
    },
    {
      "cell_type": "code",
      "metadata": {
        "id": "kovh4XxNlU-l",
        "colab_type": "code",
        "colab": {}
      },
      "source": [
        ""
      ],
      "execution_count": 0,
      "outputs": []
    },
    {
      "cell_type": "markdown",
      "metadata": {
        "id": "whnosW1WlV9d",
        "colab_type": "text"
      },
      "source": [
        "Conv1D +RNN"
      ]
    },
    {
      "cell_type": "code",
      "metadata": {
        "id": "Vi_6VNVEetIi",
        "colab_type": "code",
        "colab": {}
      },
      "source": [
        "def make_conv1D_classification_lstm_model(\n",
        "    n_categories, embedding_size, lstm_size, lstm_dropout, dropout,\n",
        "):\n",
        "    return keras.models.Sequential(\n",
        "        [\n",
        "            keras.layers.Embedding(\n",
        "                VOCABULARY_SIZE + n_oov_buckets,\n",
        "                embedding_size,\n",
        "                mask_zero=True,\n",
        "                input_shape=[None],\n",
        "            ),\n",
        "            keras.layers.Bidirectional(\n",
        "                keras.layers.LSTM(\n",
        "                    lstm_size, dropout=lstm_dropout, return_sequences=True\n",
        "                )\n",
        "            ),\n",
        "            keras.layers.Bidirectional(\n",
        "                keras.layers.LSTM(\n",
        "                    lstm_size, dropout=lstm_dropout, return_sequences=True\n",
        "                )\n",
        "            ),\n",
        "            keras.layers.Conv1D(\n",
        "              128,\n",
        "              kernel_size=5,\n",
        "              padding='same',\n",
        "              activation=keras.activations.relu,\n",
        "              kernel_initializer=keras.initializers.he_uniform(),\n",
        "            ),\n",
        "         \n",
        "            keras.layers.GlobalMaxPool1D(),\n",
        "            keras.layers.Dropout(dropout),\n",
        "            keras.layers.Dense(n_categories, activation=keras.activations.softmax),\n",
        "        ]\n",
        "    )"
      ],
      "execution_count": 0,
      "outputs": []
    },
    {
      "cell_type": "code",
      "metadata": {
        "id": "g_sFXTVmgPNC",
        "colab_type": "code",
        "colab": {}
      },
      "source": [
        "model = make_conv1D_classification_lstm_model(\n",
        "    n_categories = n_categories,\n",
        "    embedding_size=16,\n",
        "    lstm_size=16,\n",
        "    lstm_dropout=0.2,\n",
        "    dropout=0.1,\n",
        "    \n",
        ")"
      ],
      "execution_count": 0,
      "outputs": []
    },
    {
      "cell_type": "code",
      "metadata": {
        "id": "Fkc_6-5Qfc2Z",
        "colab_type": "code",
        "colab": {}
      },
      "source": [
        "model.compile(\n",
        "    loss=keras.losses.sparse_categorical_crossentropy,\n",
        "    optimizer=keras.optimizers.Adam(lr=3e-4),\n",
        "    metrics=[\n",
        "        keras.metrics.sparse_categorical_accuracy,\n",
        "        \n",
        "    ],\n",
        ")"
      ],
      "execution_count": 0,
      "outputs": []
    },
    {
      "cell_type": "code",
      "metadata": {
        "id": "1YqqpwjjhIdG",
        "colab_type": "code",
        "colab": {
          "base_uri": "https://localhost:8080/",
          "height": 709
        },
        "outputId": "ae03b21d-0acd-4022-81d8-988b8b75bad7"
      },
      "source": [
        "history = model.fit(\n",
        "    train_dataset,\n",
        "    steps_per_epoch=train_dataset_steps,\n",
        "    validation_data=validation_dataset,\n",
        "    validation_steps=validation_dataset_steps,\n",
        "    epochs=5,\n",
        "    callbacks=[\n",
        "        keras.callbacks.ReduceLROnPlateau(patience=2, factor=0.3),\n",
        "        keras.callbacks.EarlyStopping(patience=4, restore_best_weights=True),\n",
        "    ],\n",
        "    \n",
        ")"
      ],
      "execution_count": 113,
      "outputs": [
        {
          "output_type": "stream",
          "text": [
            "Train for 2256 steps, validate for 1128 steps\n",
            "Epoch 1/5\n"
          ],
          "name": "stdout"
        },
        {
          "output_type": "stream",
          "text": [
            "Exception ignored in: <bound method IteratorResourceDeleter.__del__ of <tensorflow.python.data.ops.iterator_ops.IteratorResourceDeleter object at 0x7f091dce5a58>>\n",
            "Traceback (most recent call last):\n",
            "  File \"/usr/local/lib/python3.6/dist-packages/tensorflow_core/python/data/ops/iterator_ops.py\", line 541, in __del__\n",
            "    handle=self._handle, deleter=self._deleter)\n",
            "  File \"/usr/local/lib/python3.6/dist-packages/tensorflow_core/python/ops/gen_dataset_ops.py\", line 1157, in delete_iterator\n",
            "    \"DeleteIterator\", handle=handle, deleter=deleter, name=name)\n",
            "  File \"/usr/local/lib/python3.6/dist-packages/tensorflow_core/python/framework/op_def_library.py\", line 793, in _apply_op_helper\n",
            "    op_def=op_def)\n",
            "  File \"/usr/local/lib/python3.6/dist-packages/tensorflow_core/python/framework/func_graph.py\", line 544, in create_op\n",
            "    inp = self.capture(inp)\n",
            "  File \"/usr/local/lib/python3.6/dist-packages/tensorflow_core/python/ops/while_v2.py\", line 919, in capture\n",
            "    (str(tensor), _graph_name(tensor.graph)))\n",
            "ValueError: Attempting to capture tensor Tensor(\"input_iterator:0\", shape=(), dtype=resource) which is not in the forward graph but in distributed_function.\n",
            "Exception ignored in: <bound method IteratorResourceDeleter.__del__ of <tensorflow.python.data.ops.iterator_ops.IteratorResourceDeleter object at 0x7f091dce5be0>>\n",
            "Traceback (most recent call last):\n",
            "  File \"/usr/local/lib/python3.6/dist-packages/tensorflow_core/python/data/ops/iterator_ops.py\", line 541, in __del__\n",
            "    handle=self._handle, deleter=self._deleter)\n",
            "  File \"/usr/local/lib/python3.6/dist-packages/tensorflow_core/python/ops/gen_dataset_ops.py\", line 1157, in delete_iterator\n",
            "    \"DeleteIterator\", handle=handle, deleter=deleter, name=name)\n",
            "  File \"/usr/local/lib/python3.6/dist-packages/tensorflow_core/python/framework/op_def_library.py\", line 793, in _apply_op_helper\n",
            "    op_def=op_def)\n",
            "  File \"/usr/local/lib/python3.6/dist-packages/tensorflow_core/python/framework/func_graph.py\", line 544, in create_op\n",
            "    inp = self.capture(inp)\n",
            "  File \"/usr/local/lib/python3.6/dist-packages/tensorflow_core/python/ops/while_v2.py\", line 919, in capture\n",
            "    (str(tensor), _graph_name(tensor.graph)))\n",
            "ValueError: Attempting to capture tensor Tensor(\"input_iterator:0\", shape=(), dtype=resource) which is not in the forward graph but in distributed_function.\n"
          ],
          "name": "stderr"
        },
        {
          "output_type": "stream",
          "text": [
            "2256/2256 [==============================] - 399s 177ms/step - loss: 0.5543 - sparse_categorical_accuracy: 0.7352 - val_loss: 0.5056 - val_sparse_categorical_accuracy: 0.7715\n",
            "Epoch 2/5\n",
            "2256/2256 [==============================] - 347s 154ms/step - loss: 0.4367 - sparse_categorical_accuracy: 0.8042 - val_loss: 0.4927 - val_sparse_categorical_accuracy: 0.7753\n",
            "Epoch 3/5\n",
            "2256/2256 [==============================] - 346s 153ms/step - loss: 0.3845 - sparse_categorical_accuracy: 0.8324 - val_loss: 0.5124 - val_sparse_categorical_accuracy: 0.7622\n",
            "Epoch 4/5\n",
            "2256/2256 [==============================] - 347s 154ms/step - loss: 0.3393 - sparse_categorical_accuracy: 0.8555 - val_loss: 0.5574 - val_sparse_categorical_accuracy: 0.7475\n",
            "Epoch 5/5\n",
            "2256/2256 [==============================] - 354s 157ms/step - loss: 0.2745 - sparse_categorical_accuracy: 0.8881 - val_loss: 0.6593 - val_sparse_categorical_accuracy: 0.7387\n"
          ],
          "name": "stdout"
        }
      ]
    },
    {
      "cell_type": "code",
      "metadata": {
        "id": "S9YtznK0lPVD",
        "colab_type": "code",
        "colab": {
          "base_uri": "https://localhost:8080/",
          "height": 53
        },
        "outputId": "288013f2-699e-4370-b4fb-cc79507bd07c"
      },
      "source": [
        "model.evaluate(validation_dataset, steps=validation_dataset_steps)"
      ],
      "execution_count": 114,
      "outputs": [
        {
          "output_type": "stream",
          "text": [
            "1128/1128 [==============================] - 36s 32ms/step - loss: 0.6593 - sparse_categorical_accuracy: 0.7387\n"
          ],
          "name": "stdout"
        },
        {
          "output_type": "execute_result",
          "data": {
            "text/plain": [
              "[0.6593470400899437, 0.7386968]"
            ]
          },
          "metadata": {
            "tags": []
          },
          "execution_count": 114
        }
      ]
    },
    {
      "cell_type": "code",
      "metadata": {
        "id": "5az4y_8_mAnE",
        "colab_type": "code",
        "colab": {
          "base_uri": "https://localhost:8080/",
          "height": 181
        },
        "outputId": "d94eeb62-380e-44e9-a4b1-25abd4d5c2be"
      },
      "source": [
        "print(\n",
        "    classification_report(\n",
        "        data_container.validation.y, model.predict(validation_dataset).argmax(axis=1)\n",
        "    )\n",
        ")"
      ],
      "execution_count": 115,
      "outputs": [
        {
          "output_type": "stream",
          "text": [
            "              precision    recall  f1-score   support\n",
            "\n",
            "           0       0.81      0.82      0.82     12839\n",
            "           1       0.55      0.54      0.54      5210\n",
            "\n",
            "    accuracy                           0.74     18049\n",
            "   macro avg       0.68      0.68      0.68     18049\n",
            "weighted avg       0.74      0.74      0.74     18049\n",
            "\n"
          ],
          "name": "stdout"
        }
      ]
    },
    {
      "cell_type": "code",
      "metadata": {
        "id": "iQiFHmE5svhV",
        "colab_type": "code",
        "colab": {}
      },
      "source": [
        ""
      ],
      "execution_count": 0,
      "outputs": []
    }
  ]
}